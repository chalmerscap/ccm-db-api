{
 "cells": [
  {
   "cell_type": "code",
   "execution_count": 4,
   "metadata": {},
   "outputs": [],
   "source": [
    "import ccm_db_api as api\n",
    "import os\n",
    "import requests\n",
    "import json\n",
    "from pandas.io.json import json_normalize"
   ]
  },
  {
   "cell_type": "code",
   "execution_count": 17,
   "metadata": {},
   "outputs": [
    {
     "name": "stderr",
     "output_type": "stream",
     "text": [
      "c:\\Users\\Max Johansson\\Files\\python_projects\\ccm-utils\\ccm_db_api\\Borsdata.py:25: FutureWarning: pandas.io.json.json_normalize is deprecated, use pandas.json_normalize instead\n",
      "  return json_normalize(content['instruments'])\n"
     ]
    }
   ],
   "source": [
    "key = '649de2c46ac74c20b2ba2708f4364c98'\n",
    "bd = api.Borsdata(key)\n",
    "\n",
    "df_ins = bd.instruments()"
   ]
  },
  {
   "cell_type": "code",
   "execution_count": 18,
   "metadata": {},
   "outputs": [],
   "source": [
    "ins_id = df_ins['insId'][0]"
   ]
  },
  {
   "cell_type": "code",
   "execution_count": 22,
   "metadata": {},
   "outputs": [
    {
     "name": "stderr",
     "output_type": "stream",
     "text": [
      "c:\\Users\\Max Johansson\\Files\\python_projects\\ccm-utils\\ccm_db_api\\Borsdata.py:83: FutureWarning: pandas.io.json.json_normalize is deprecated, use pandas.json_normalize instead\n",
      "  return json_normalize(content['stockPricesList'])\n"
     ]
    },
    {
     "data": {
      "text/html": [
       "<div>\n",
       "<style scoped>\n",
       "    .dataframe tbody tr th:only-of-type {\n",
       "        vertical-align: middle;\n",
       "    }\n",
       "\n",
       "    .dataframe tbody tr th {\n",
       "        vertical-align: top;\n",
       "    }\n",
       "\n",
       "    .dataframe thead th {\n",
       "        text-align: right;\n",
       "    }\n",
       "</style>\n",
       "<table border=\"1\" class=\"dataframe\">\n",
       "  <thead>\n",
       "    <tr style=\"text-align: right;\">\n",
       "      <th></th>\n",
       "      <th>i</th>\n",
       "      <th>d</th>\n",
       "      <th>h</th>\n",
       "      <th>l</th>\n",
       "      <th>c</th>\n",
       "      <th>o</th>\n",
       "      <th>v</th>\n",
       "    </tr>\n",
       "  </thead>\n",
       "  <tbody>\n",
       "    <tr>\n",
       "      <th>0</th>\n",
       "      <td>2</td>\n",
       "      <td>2022-10-13</td>\n",
       "      <td>146.150</td>\n",
       "      <td>140.850</td>\n",
       "      <td>144.400</td>\n",
       "      <td>146.000</td>\n",
       "      <td>283430.0</td>\n",
       "    </tr>\n",
       "    <tr>\n",
       "      <th>1</th>\n",
       "      <td>3</td>\n",
       "      <td>2022-10-13</td>\n",
       "      <td>290.500</td>\n",
       "      <td>278.900</td>\n",
       "      <td>289.000</td>\n",
       "      <td>282.900</td>\n",
       "      <td>1124076.0</td>\n",
       "    </tr>\n",
       "    <tr>\n",
       "      <th>2</th>\n",
       "      <td>6</td>\n",
       "      <td>2022-10-13</td>\n",
       "      <td>0.885</td>\n",
       "      <td>0.861</td>\n",
       "      <td>0.861</td>\n",
       "      <td>0.885</td>\n",
       "      <td>294608.0</td>\n",
       "    </tr>\n",
       "    <tr>\n",
       "      <th>3</th>\n",
       "      <td>7</td>\n",
       "      <td>2022-10-13</td>\n",
       "      <td>82.400</td>\n",
       "      <td>76.600</td>\n",
       "      <td>80.800</td>\n",
       "      <td>80.900</td>\n",
       "      <td>217376.0</td>\n",
       "    </tr>\n",
       "    <tr>\n",
       "      <th>4</th>\n",
       "      <td>8</td>\n",
       "      <td>2022-10-13</td>\n",
       "      <td>130.200</td>\n",
       "      <td>121.200</td>\n",
       "      <td>130.100</td>\n",
       "      <td>128.700</td>\n",
       "      <td>726392.0</td>\n",
       "    </tr>\n",
       "    <tr>\n",
       "      <th>...</th>\n",
       "      <td>...</td>\n",
       "      <td>...</td>\n",
       "      <td>...</td>\n",
       "      <td>...</td>\n",
       "      <td>...</td>\n",
       "      <td>...</td>\n",
       "      <td>...</td>\n",
       "    </tr>\n",
       "    <tr>\n",
       "      <th>1910</th>\n",
       "      <td>2438</td>\n",
       "      <td>2022-10-13</td>\n",
       "      <td>109.200</td>\n",
       "      <td>107.000</td>\n",
       "      <td>109.000</td>\n",
       "      <td>107.000</td>\n",
       "      <td>33482.0</td>\n",
       "    </tr>\n",
       "    <tr>\n",
       "      <th>1911</th>\n",
       "      <td>2439</td>\n",
       "      <td>2022-10-13</td>\n",
       "      <td>126.000</td>\n",
       "      <td>124.000</td>\n",
       "      <td>126.000</td>\n",
       "      <td>124.000</td>\n",
       "      <td>28380.0</td>\n",
       "    </tr>\n",
       "    <tr>\n",
       "      <th>1912</th>\n",
       "      <td>2440</td>\n",
       "      <td>2022-10-13</td>\n",
       "      <td>235.000</td>\n",
       "      <td>230.000</td>\n",
       "      <td>230.000</td>\n",
       "      <td>235.000</td>\n",
       "      <td>95.0</td>\n",
       "    </tr>\n",
       "    <tr>\n",
       "      <th>1913</th>\n",
       "      <td>2441</td>\n",
       "      <td>2022-10-13</td>\n",
       "      <td>235.400</td>\n",
       "      <td>212.500</td>\n",
       "      <td>235.400</td>\n",
       "      <td>212.500</td>\n",
       "      <td>50062.0</td>\n",
       "    </tr>\n",
       "    <tr>\n",
       "      <th>1914</th>\n",
       "      <td>2442</td>\n",
       "      <td>2022-10-13</td>\n",
       "      <td>41.000</td>\n",
       "      <td>40.105</td>\n",
       "      <td>40.995</td>\n",
       "      <td>40.130</td>\n",
       "      <td>32403.0</td>\n",
       "    </tr>\n",
       "  </tbody>\n",
       "</table>\n",
       "<p>1915 rows × 7 columns</p>\n",
       "</div>"
      ],
      "text/plain": [
       "         i           d        h        l        c        o          v\n",
       "0        2  2022-10-13  146.150  140.850  144.400  146.000   283430.0\n",
       "1        3  2022-10-13  290.500  278.900  289.000  282.900  1124076.0\n",
       "2        6  2022-10-13    0.885    0.861    0.861    0.885   294608.0\n",
       "3        7  2022-10-13   82.400   76.600   80.800   80.900   217376.0\n",
       "4        8  2022-10-13  130.200  121.200  130.100  128.700   726392.0\n",
       "...    ...         ...      ...      ...      ...      ...        ...\n",
       "1910  2438  2022-10-13  109.200  107.000  109.000  107.000    33482.0\n",
       "1911  2439  2022-10-13  126.000  124.000  126.000  124.000    28380.0\n",
       "1912  2440  2022-10-13  235.000  230.000  230.000  235.000       95.0\n",
       "1913  2441  2022-10-13  235.400  212.500  235.400  212.500    50062.0\n",
       "1914  2442  2022-10-13   41.000   40.105   40.995   40.130    32403.0\n",
       "\n",
       "[1915 rows x 7 columns]"
      ]
     },
     "execution_count": 22,
     "metadata": {},
     "output_type": "execute_result"
    }
   ],
   "source": [
    "bd.prices_last()"
   ]
  },
  {
   "cell_type": "code",
   "execution_count": null,
   "metadata": {},
   "outputs": [],
   "source": []
  }
 ],
 "metadata": {
  "kernelspec": {
   "display_name": "Python 3.8.5 ('venv': venv)",
   "language": "python",
   "name": "python3"
  },
  "language_info": {
   "codemirror_mode": {
    "name": "ipython",
    "version": 3
   },
   "file_extension": ".py",
   "mimetype": "text/x-python",
   "name": "python",
   "nbconvert_exporter": "python",
   "pygments_lexer": "ipython3",
   "version": "3.8.5"
  },
  "orig_nbformat": 4,
  "vscode": {
   "interpreter": {
    "hash": "aaf829da40dbb12f89d3f2bbca04a089b57263903e2ce0fae46197aa272d54bd"
   }
  }
 },
 "nbformat": 4,
 "nbformat_minor": 2
}
